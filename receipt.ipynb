{
 "cells": [
  {
   "cell_type": "code",
   "execution_count": 1,
   "metadata": {},
   "outputs": [],
   "source": [
    "from main import parse_receipt\n",
    "from pathlib import Path"
   ]
  },
  {
   "cell_type": "code",
   "execution_count": 2,
   "metadata": {},
   "outputs": [],
   "source": [
    "purchases = parse_receipt(Path(\"receipt.txt\").read_text())"
   ]
  },
  {
   "cell_type": "code",
   "execution_count": 3,
   "metadata": {},
   "outputs": [
    {
     "name": "stdout",
     "output_type": "stream",
     "text": [
      "Name: Свекла весовая, Weight: 0.688 kg, Quantity: 0.688, Full weight: 0.688 kg Full price: 37.15\n",
      "Name: Мука пшеничная Просто Азбука высший сорт, Weight: 2.0 kg, Quantity: 1.0, Full weight: 2.0 kg Full price: 133.0\n",
      "Name: Сода пищевая, Weight: 0.5 kg, Quantity: 1.0, Full weight: 0.5 kg Full price: 41.9\n",
      "Name: Чеснок 1 уп. Китай, Weight: 1.0 items, Quantity: 1.0, Full weight: 1.0 items Full price: 86.0\n",
      "Name: Картофель Просто Азбука, Weight: 2.028 kg, Quantity: 2.028, Full weight: 2.028 kg Full price: 180.49\n",
      "Name: Морковь Просто Азбука, Weight: 1.472 kg, Quantity: 1.472, Full weight: 1.472 kg Full price: 144.26\n",
      "Name: Крупа Ярмарка овсяная, Weight: 0.7 kg, Quantity: 1.0, Full weight: 0.7 kg Full price: 72.0\n",
      "Name: Крупа пшено Мистраль, Weight: 0.9 kg, Quantity: 1.0, Full weight: 0.9 kg Full price: 129.0\n",
      "Name: Грейпфруты Южно-Африканская Республика, Weight: 0.422 kg, Quantity: 0.422, Full weight: 0.422 kg Full price: 62.46\n",
      "Name: Крупа гречневая Мистраль Фермерская, Weight: 0.9 kg, Quantity: 1.0, Full weight: 0.9 kg Full price: 136.0\n",
      "Name: Лук репчатый, Weight: 0.5 kg, Quantity: 1.0, Full weight: 0.5 kg Full price: 78.0\n"
     ]
    }
   ],
   "source": [
    "for pur in sorted(purchases, key=lambda x:x.full_price/x.full_weight)[1:12]:\n",
    "    print(pur)"
   ]
  },
  {
   "cell_type": "code",
   "execution_count": null,
   "metadata": {},
   "outputs": [],
   "source": []
  }
 ],
 "metadata": {
  "kernelspec": {
   "display_name": "Python 3",
   "language": "python",
   "name": "python3"
  },
  "language_info": {
   "codemirror_mode": {
    "name": "ipython",
    "version": 3
   },
   "file_extension": ".py",
   "mimetype": "text/x-python",
   "name": "python",
   "nbconvert_exporter": "python",
   "pygments_lexer": "ipython3",
   "version": "3.7.5"
  }
 },
 "nbformat": 4,
 "nbformat_minor": 4
}
